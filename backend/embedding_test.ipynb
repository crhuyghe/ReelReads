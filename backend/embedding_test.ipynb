{
 "cells": [
  {
   "metadata": {},
   "cell_type": "markdown",
   "source": "Importing libraries",
   "id": "5ca9aee23a566f03"
  },
  {
   "metadata": {
    "ExecuteTime": {
     "end_time": "2025-02-11T18:26:26.098961Z",
     "start_time": "2025-02-11T18:26:19.052761Z"
    }
   },
   "cell_type": "code",
   "source": [
    "from sentence_transformers import SentenceTransformer\n",
    "import numpy as np\n",
    "import pandas as pd"
   ],
   "id": "4211608615df865b",
   "outputs": [
    {
     "name": "stderr",
     "output_type": "stream",
     "text": [
      "C:\\Espressif\\frameworks\\esp-idf-v4.4.1\\projects\\ReelReads\\.venv\\Lib\\site-packages\\tqdm\\auto.py:21: TqdmWarning: IProgress not found. Please update jupyter and ipywidgets. See https://ipywidgets.readthedocs.io/en/stable/user_install.html\n",
      "  from .autonotebook import tqdm as notebook_tqdm\n"
     ]
    }
   ],
   "execution_count": 1
  },
  {
   "metadata": {},
   "cell_type": "markdown",
   "source": "Loading book and movie data",
   "id": "b6602f97eae8faa8"
  },
  {
   "metadata": {
    "ExecuteTime": {
     "end_time": "2025-02-11T18:29:30.771586Z",
     "start_time": "2025-02-11T18:29:30.045626Z"
    }
   },
   "cell_type": "code",
   "source": [
    "book_df = pd.read_csv(\"../database/book_data/cleaned_books_5000.csv\")\n",
    "movie_df = pd.read_csv(\"../database/movie_data/movies_metadata_trimmed.csv\")\n",
    "\n",
    "book_embeddings = pd.read_csv(\"../database/book_data/book_embeddings.csv\").iloc[:, 1:].to_numpy()\n",
    "movie_embeddings = pd.read_csv(\"../database/movie_data/movie_embeddings.csv\").iloc[:, 1:].to_numpy()"
   ],
   "id": "d0da12d4441425f6",
   "outputs": [],
   "execution_count": 5
  },
  {
   "metadata": {},
   "cell_type": "markdown",
   "source": "Simple search feature for finding specific books/movies",
   "id": "c86b5813c8425bc2"
  },
  {
   "metadata": {
    "ExecuteTime": {
     "end_time": "2025-02-11T19:08:25.575598Z",
     "start_time": "2025-02-11T19:08:07.958790Z"
    }
   },
   "cell_type": "code",
   "source": [
    "from time import sleep\n",
    "from sklearn.metrics.pairwise import cosine_similarity\n",
    "model = SentenceTransformer('sentence-transformers/all-MiniLM-L6-v2')\n",
    "\n",
    "term = input(\"Enter a search term or type 'q' to quit\")\n",
    "while term != \"q\":\n",
    "    embedding = model.encode([term])\n",
    "\n",
    "    book_df[\"SIM\"] = cosine_similarity(embedding, book_embeddings)[0]\n",
    "    movie_df[\"SIM\"] = cosine_similarity(embedding, movie_embeddings)[0]\n",
    "\n",
    "    print(\"\\nBooks\")\n",
    "    print(book_df.sort_values(by=\"SIM\", ascending=False).head(5)[[\"SIM\", \"Name\", \"Id\"]])\n",
    "\n",
    "    print(\"\\nMovies\")\n",
    "    print(movie_df.sort_values(by=\"SIM\", ascending=False).head(5)[[\"SIM\", \"original_title\", \"id\"]])\n",
    "\n",
    "    sleep(1)\n",
    "\n",
    "    term = input(\"Enter a search term or type 'q' to quit\")"
   ],
   "id": "d43875896dbec80b",
   "outputs": [
    {
     "name": "stdout",
     "output_type": "stream",
     "text": [
      "Books\n",
      "           SIM                                               Name       Id\n",
      "51    0.478531                       The Tales of Beedle the Bard  4020390\n",
      "1439  0.476873                                       Travel Light   827276\n",
      "273   0.453585  Harry, a History: The True Story of a Boy Wiza...  3130430\n",
      "2392  0.442772                         So You Want to Be a Wizard  1062958\n",
      "4901  0.431439          Harry Potter and the Order of the Phoenix   793401\n",
      "Movies\n",
      "           SIM                            original_title     id\n",
      "1176  0.564943  Harry Potter and the Philosopher's Stone    671\n",
      "2109  0.560692       Harry Potter and the Goblet of Fire    674\n",
      "2678  0.542600    Harry Potter and the Half-Blood Prince    767\n",
      "1323  0.515909   Harry Potter and the Chamber of Secrets    672\n",
      "4795  0.508693       Wizards of Waverly Place: The Movie  26736\n",
      "Books\n",
      "           SIM                                              Name       Id\n",
      "4925  0.545460      The Annotated Hobbit (Middle-earth Universe)   764872\n",
      "4965  0.524994      Unfinished Tales of Númenor and Middle-Earth   797114\n",
      "232   0.521877                         The Hobbit: Graphic Novel   659469\n",
      "2642  0.507465  The History of the Hobbit, Part One: Mr. Baggins  1081560\n",
      "1439  0.490646                                      Travel Light   827276\n",
      "Movies\n",
      "           SIM                                     original_title    id\n",
      "543   0.692909                              The Lord of the Rings   123\n",
      "1192  0.638118  The Lord of the Rings: The Fellowship of the Ring   120\n",
      "1567  0.609867      The Lord of the Rings: The Return of the King   122\n",
      "2927  0.605489                             The Return of the King  1361\n",
      "1348  0.586414              The Lord of the Rings: The Two Towers   121\n"
     ]
    }
   ],
   "execution_count": 19
  },
  {
   "metadata": {},
   "cell_type": "markdown",
   "source": "Using averaged embeddings of liked books and movies, find similar books and movies",
   "id": "ae950db1385fac37"
  },
  {
   "metadata": {
    "ExecuteTime": {
     "end_time": "2025-02-11T19:19:49.834320Z",
     "start_time": "2025-02-11T19:19:49.793372Z"
    }
   },
   "cell_type": "code",
   "source": [
    "liked_books = book_embeddings.iloc[[4901, 232, 2642]]\n",
    "liked_movies = movie_embeddings.iloc[[1176, 2109, 2678, 1323, 543, 1192, 1567]]\n",
    "\n",
    "mean = pd.concat([liked_books, liked_movies]).mean(axis=0)\n",
    "\n",
    "# print(mean.mean(axis=0))\n",
    "book_df[\"SIM\"] = cosine_similarity(np.array([mean]), book_embeddings)[0]\n",
    "movie_df[\"SIM\"] = cosine_similarity(np.array([mean]), movie_embeddings)[0]\n",
    "\n",
    "print(\"\\nBooks\")\n",
    "print(book_df.sort_values(by=\"SIM\", ascending=False).head(10)[[\"SIM\", \"Name\", \"Id\"]])\n",
    "\n",
    "print(\"\\nMovies\")\n",
    "print(movie_df.sort_values(by=\"SIM\", ascending=False).head(10)[[\"SIM\", \"original_title\", \"id\"]])\n"
   ],
   "id": "89c8c363bed165c3",
   "outputs": [
    {
     "name": "stdout",
     "output_type": "stream",
     "text": [
      "\n",
      "Books\n",
      "           SIM                                               Name       Id\n",
      "232   0.679716                          The Hobbit: Graphic Novel   659469\n",
      "4925  0.624075       The Annotated Hobbit (Middle-earth Universe)   764872\n",
      "2642  0.616307   The History of the Hobbit, Part One: Mr. Baggins  1081560\n",
      "1439  0.558035                                       Travel Light   827276\n",
      "4901  0.528967          Harry Potter and the Order of the Phoenix   793401\n",
      "4626  0.526584                The Hobbit: or There and Back Again   837611\n",
      "51    0.498081                       The Tales of Beedle the Bard  4020390\n",
      "4965  0.489549       Unfinished Tales of Númenor and Middle-Earth   797114\n",
      "3002  0.465080  Secret Speakers and the Search for Selador's Gate  2989344\n",
      "273   0.456814  Harry, a History: The True Story of a Boy Wiza...  3130430\n",
      "\n",
      "Movies\n",
      "           SIM                                     original_title    id\n",
      "1192  0.678760  The Lord of the Rings: The Fellowship of the Ring   120\n",
      "2678  0.642901             Harry Potter and the Half-Blood Prince   767\n",
      "2927  0.630003                             The Return of the King  1361\n",
      "2109  0.629909                Harry Potter and the Goblet of Fire   674\n",
      "1567  0.629267      The Lord of the Rings: The Return of the King   122\n",
      "1176  0.623272           Harry Potter and the Philosopher's Stone   671\n",
      "543   0.622371                              The Lord of the Rings   123\n",
      "1323  0.614849            Harry Potter and the Chamber of Secrets   672\n",
      "1348  0.569315              The Lord of the Rings: The Two Towers   121\n",
      "2383  0.565556          Harry Potter and the Order of the Phoenix   675\n"
     ]
    }
   ],
   "execution_count": 34
  }
 ],
 "metadata": {
  "kernelspec": {
   "display_name": "Python 3",
   "language": "python",
   "name": "python3"
  },
  "language_info": {
   "codemirror_mode": {
    "name": "ipython",
    "version": 2
   },
   "file_extension": ".py",
   "mimetype": "text/x-python",
   "name": "python",
   "nbconvert_exporter": "python",
   "pygments_lexer": "ipython2",
   "version": "2.7.6"
  }
 },
 "nbformat": 4,
 "nbformat_minor": 5
}
