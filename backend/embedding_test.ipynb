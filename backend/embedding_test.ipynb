{
 "cells": [
  {
   "metadata": {},
   "cell_type": "markdown",
   "source": "Importing libraries",
   "id": "5ca9aee23a566f03"
  },
  {
   "metadata": {
    "ExecuteTime": {
     "end_time": "2025-02-12T14:43:35.115534Z",
     "start_time": "2025-02-12T14:43:35.103545Z"
    }
   },
   "cell_type": "code",
   "source": [
    "from sentence_transformers import SentenceTransformer\n",
    "from sklearn.metrics.pairwise import cosine_similarity\n",
    "import numpy as np\n",
    "import pandas as pd"
   ],
   "id": "4211608615df865b",
   "outputs": [],
   "execution_count": 4
  },
  {
   "metadata": {},
   "cell_type": "markdown",
   "source": "Loading book and movie data",
   "id": "b6602f97eae8faa8"
  },
  {
   "metadata": {
    "ExecuteTime": {
     "end_time": "2025-02-12T14:43:08.586722Z",
     "start_time": "2025-02-12T14:43:07.900772Z"
    }
   },
   "cell_type": "code",
   "source": [
    "book_df = pd.read_csv(\"../database/book_data/cleaned_books_5000.csv\")\n",
    "movie_df = pd.read_csv(\"../database/movie_data/movies_metadata_trimmed.csv\")\n",
    "\n",
    "book_embeddings = pd.read_csv(\"../database/book_data/book_embeddings.csv\").iloc[:, 1:]\n",
    "movie_embeddings = pd.read_csv(\"../database/movie_data/movie_embeddings.csv\").iloc[:, 1:]"
   ],
   "id": "d0da12d4441425f6",
   "outputs": [],
   "execution_count": 2
  },
  {
   "metadata": {},
   "cell_type": "markdown",
   "source": "Simple search feature for finding specific books/movies",
   "id": "c86b5813c8425bc2"
  },
  {
   "metadata": {
    "ExecuteTime": {
     "end_time": "2025-02-12T15:18:28.342535Z",
     "start_time": "2025-02-12T15:18:01.426494Z"
    }
   },
   "cell_type": "code",
   "source": [
    "from time import sleep\n",
    "model = SentenceTransformer('sentence-transformers/all-MiniLM-L6-v2')\n",
    "\n",
    "term = input(\"Enter a search term or type 'q' to quit\")\n",
    "while term != \"q\":\n",
    "    embedding = model.encode([term])\n",
    "\n",
    "    book_df[\"SIM\"] = cosine_similarity(embedding, book_embeddings)[0]\n",
    "    movie_df[\"SIM\"] = cosine_similarity(embedding, movie_embeddings)[0]\n",
    "\n",
    "    print(\"\\nBooks\")\n",
    "    print(book_df.sort_values(by=\"SIM\", ascending=False).head(5)[[\"SIM\", \"Name\", \"id\"]])\n",
    "\n",
    "    print(\"\\nMovies\")\n",
    "    print(movie_df.sort_values(by=\"SIM\", ascending=False).head(5)[[\"SIM\", \"original_title\", \"id\"]])\n",
    "\n",
    "    sleep(1)\n",
    "\n",
    "    term = input(\"Enter a search term or type 'q' to quit\")"
   ],
   "id": "d43875896dbec80b",
   "outputs": [
    {
     "name": "stdout",
     "output_type": "stream",
     "text": [
      "\n",
      "Books\n",
      "           SIM                                               Name       Id\n",
      "1131  0.532182  Harry Potter and the Sorcerer's Stone (Harry P...   862267\n",
      "128   0.478531                       The Tales of Beedle the Bard  4020390\n",
      "2561  0.476873                                       Travel Light   827276\n",
      "3419  0.463216     Horrible Harry in Room 2B (Horrible Harry, #1)   632544\n",
      "2591  0.458413                White Night (The Dresden Files, #9)  1266051\n",
      "\n",
      "Movies\n",
      "           SIM                            original_title     id\n",
      "1176  0.564943  Harry Potter and the Philosopher's Stone    671\n",
      "2109  0.560692       Harry Potter and the Goblet of Fire    674\n",
      "2678  0.542600    Harry Potter and the Half-Blood Prince    767\n",
      "1323  0.515909   Harry Potter and the Chamber of Secrets    672\n",
      "4795  0.508693       Wizards of Waverly Place: The Movie  26736\n",
      "\n",
      "Books\n",
      "           SIM                                              Name       Id\n",
      "458   0.521877                         The Hobbit: Graphic Novel   659469\n",
      "4537  0.507465  The History of the Hobbit, Part One: Mr. Baggins  1081560\n",
      "2561  0.490646                                      Travel Light   827276\n",
      "1004  0.449547               The Light Fantastic (Discworld, #2)   601239\n",
      "4606  0.448614           The Book of the King (The Wormling, #1)  2042956\n",
      "\n",
      "Movies\n",
      "           SIM                                     original_title    id\n",
      "543   0.692909                              The Lord of the Rings   123\n",
      "1192  0.638118  The Lord of the Rings: The Fellowship of the Ring   120\n",
      "1567  0.609867      The Lord of the Rings: The Return of the King   122\n",
      "2927  0.605489                             The Return of the King  1361\n",
      "1348  0.586414              The Lord of the Rings: The Two Towers   121\n"
     ]
    }
   ],
   "execution_count": 16
  },
  {
   "metadata": {},
   "cell_type": "markdown",
   "source": "Using averaged embeddings of liked books and movies, find similar books and movies",
   "id": "ae950db1385fac37"
  },
  {
   "metadata": {},
   "cell_type": "markdown",
   "source": "",
   "id": "24bf2b583c0fe3a6"
  },
  {
   "metadata": {
    "ExecuteTime": {
     "end_time": "2025-02-12T15:09:23.990152Z",
     "start_time": "2025-02-12T15:09:23.941525Z"
    }
   },
   "cell_type": "code",
   "source": [
    "liked_books = book_embeddings.iloc[[458, 1131]]\n",
    "# liked_movies = movie_embeddings.iloc[[1176, 2109, 2678, 1323, 543, 1192, 1567]]\n",
    "liked_movies = movie_embeddings.iloc[[749]]\n",
    "\n",
    "mean = pd.concat([liked_books, liked_movies]).mean(axis=0)\n",
    "mean /= np.linalg.norm(mean)\n",
    "\n",
    "book_df[\"SIM\"] = cosine_similarity(np.array([mean]), book_embeddings)[0]\n",
    "movie_df[\"SIM\"] = cosine_similarity(np.array([mean]), movie_embeddings)[0]\n",
    "\n",
    "print(\"\\nBooks\")\n",
    "print(book_df.sort_values(by=\"SIM\", ascending=False).head(10)[[\"SIM\", \"Name\", \"Id\"]])\n",
    "\n",
    "print(\"\\nMovies\")\n",
    "print(movie_df.sort_values(by=\"SIM\", ascending=False).head(10)[[\"SIM\", \"original_title\", \"id\"]])\n"
   ],
   "id": "89c8c363bed165c3",
   "outputs": [
    {
     "name": "stdout",
     "output_type": "stream",
     "text": [
      "\n",
      "Books\n",
      "           SIM                                               Name       Id\n",
      "458   0.752721                          The Hobbit: Graphic Novel   659469\n",
      "1417  0.485606                                     The Gunslinger   995103\n",
      "4537  0.483916   The History of the Hobbit, Part One: Mr. Baggins  1081560\n",
      "738   0.469367                         SilverFin (Young Bond, #1)   603911\n",
      "4270  0.445061  Special Assignments (Erast Fandorin Mysteries,...  1150067\n",
      "3149  0.444946                    Hurricane Gold (Young Bond, #4)  1660794\n",
      "3746  0.441369  Who the Hell Is Pansy O'Hara?: The Fascinating...  2657515\n",
      "836   0.440751  The Inkheart Trilogy: Inkheart, Inkspell, Inkd...  3334563\n",
      "866   0.440159                 Touchstone (Harris Stuyvesant, #1)  1272835\n",
      "3394  0.438445  The Book of Three (The Chronicles of Prydain, #1)  1110566\n",
      "\n",
      "Movies\n",
      "           SIM                                     original_title      id\n",
      "749   0.752721                                         Goldfinger     658\n",
      "1192  0.524764  The Lord of the Rings: The Fellowship of the Ring     120\n",
      "5233  0.521095                                          Galgameth  149474\n",
      "2927  0.514906                             The Return of the King    1361\n",
      "1567  0.478451      The Lord of the Rings: The Return of the King     122\n",
      "3     0.469752                                          GoldenEye     710\n",
      "1348  0.464732              The Lord of the Rings: The Two Towers     121\n",
      "904   0.439913                        The Man with the Golden Gun     682\n",
      "991   0.425433                               The Living Daylights     708\n",
      "5342  0.415429                        The Gnomes' Great Adventure  101538\n"
     ]
    }
   ],
   "execution_count": 15
  }
 ],
 "metadata": {
  "kernelspec": {
   "display_name": "Python 3",
   "language": "python",
   "name": "python3"
  },
  "language_info": {
   "codemirror_mode": {
    "name": "ipython",
    "version": 2
   },
   "file_extension": ".py",
   "mimetype": "text/x-python",
   "name": "python",
   "nbconvert_exporter": "python",
   "pygments_lexer": "ipython2",
   "version": "2.7.6"
  }
 },
 "nbformat": 4,
 "nbformat_minor": 5
}
