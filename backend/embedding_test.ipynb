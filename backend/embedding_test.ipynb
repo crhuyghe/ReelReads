{
 "cells": [
  {
   "metadata": {},
   "cell_type": "markdown",
   "source": "Importing libraries",
   "id": "5ca9aee23a566f03"
  },
  {
   "metadata": {
    "ExecuteTime": {
     "end_time": "2025-02-11T21:17:22.620181Z",
     "start_time": "2025-02-11T21:17:16.059566Z"
    }
   },
   "cell_type": "code",
   "source": [
    "from sentence_transformers import SentenceTransformer\n",
    "import numpy as np\n",
    "import pandas as pd"
   ],
   "id": "4211608615df865b",
   "outputs": [
    {
     "name": "stderr",
     "output_type": "stream",
     "text": [
      "C:\\Espressif\\frameworks\\esp-idf-v4.4.1\\projects\\ReelReads\\.venv\\Lib\\site-packages\\tqdm\\auto.py:21: TqdmWarning: IProgress not found. Please update jupyter and ipywidgets. See https://ipywidgets.readthedocs.io/en/stable/user_install.html\n",
      "  from .autonotebook import tqdm as notebook_tqdm\n"
     ]
    }
   ],
   "execution_count": 1
  },
  {
   "metadata": {},
   "cell_type": "markdown",
   "source": "Loading book and movie data",
   "id": "b6602f97eae8faa8"
  },
  {
   "metadata": {
    "ExecuteTime": {
     "end_time": "2025-02-11T21:22:12.505738Z",
     "start_time": "2025-02-11T21:22:11.762196Z"
    }
   },
   "cell_type": "code",
   "source": [
    "book_df = pd.read_csv(\"../database/book_data/cleaned_books_5000.csv\")\n",
    "movie_df = pd.read_csv(\"../database/movie_data/movies_metadata_trimmed.csv\")\n",
    "\n",
    "book_embeddings = pd.read_csv(\"../database/book_data/book_embeddings.csv\").iloc[:, 1:]\n",
    "movie_embeddings = pd.read_csv(\"../database/movie_data/movie_embeddings.csv\").iloc[:, 1:]"
   ],
   "id": "d0da12d4441425f6",
   "outputs": [],
   "execution_count": 7
  },
  {
   "metadata": {},
   "cell_type": "markdown",
   "source": "Simple search feature for finding specific books/movies",
   "id": "c86b5813c8425bc2"
  },
  {
   "metadata": {
    "ExecuteTime": {
     "end_time": "2025-02-11T21:21:05.357752Z",
     "start_time": "2025-02-11T21:20:35.628333Z"
    }
   },
   "cell_type": "code",
   "source": [
    "from time import sleep\n",
    "from sklearn.metrics.pairwise import cosine_similarity\n",
    "model = SentenceTransformer('sentence-transformers/all-MiniLM-L6-v2')\n",
    "\n",
    "term = input(\"Enter a search term or type 'q' to quit\")\n",
    "while term != \"q\":\n",
    "    embedding = model.encode([term])\n",
    "\n",
    "    book_df[\"SIM\"] = cosine_similarity(embedding, book_embeddings)[0]\n",
    "    movie_df[\"SIM\"] = cosine_similarity(embedding, movie_embeddings)[0]\n",
    "\n",
    "    print(\"\\nBooks\")\n",
    "    print(book_df.sort_values(by=\"SIM\", ascending=False).head(5)[[\"SIM\", \"Name\", \"Id\"]])\n",
    "\n",
    "    print(\"\\nMovies\")\n",
    "    print(movie_df.sort_values(by=\"SIM\", ascending=False).head(5)[[\"SIM\", \"original_title\", \"id\"]])\n",
    "\n",
    "    sleep(1)\n",
    "\n",
    "    term = input(\"Enter a search term or type 'q' to quit\")"
   ],
   "id": "d43875896dbec80b",
   "outputs": [
    {
     "name": "stdout",
     "output_type": "stream",
     "text": [
      "\n",
      "Books\n",
      "           SIM                                               Name       Id\n",
      "1131  0.642823  Harry Potter and the Sorcerer's Stone (Harry P...   862267\n",
      "2561  0.592328                                       Travel Light   827276\n",
      "128   0.535020                       The Tales of Beedle the Bard  4020390\n",
      "843   0.505694                Stoneheart (Stoneheart Trilogy, #1)   792775\n",
      "532   0.475095  Harry, a History: The True Story of a Boy Wiza...  3130430\n",
      "\n",
      "Movies\n",
      "           SIM                            original_title     id\n",
      "1176  0.608890  Harry Potter and the Philosopher's Stone    671\n",
      "2109  0.539277       Harry Potter and the Goblet of Fire    674\n",
      "2678  0.532389    Harry Potter and the Half-Blood Prince    767\n",
      "4795  0.524641       Wizards of Waverly Place: The Movie  26736\n",
      "1323  0.498691   Harry Potter and the Chamber of Secrets    672\n",
      "\n",
      "Books\n",
      "           SIM                                               Name       Id\n",
      "2561  0.514451                                       Travel Light   827276\n",
      "3419  0.509039     Horrible Harry in Room 2B (Horrible Harry, #1)   632544\n",
      "128   0.498516                       The Tales of Beedle the Bard  4020390\n",
      "1131  0.459851  Harry Potter and the Sorcerer's Stone (Harry P...   862267\n",
      "2394  0.453948                                          Suite 606  3188747\n",
      "\n",
      "Movies\n",
      "           SIM                            original_title    id\n",
      "1323  0.682074   Harry Potter and the Chamber of Secrets   672\n",
      "2678  0.529792    Harry Potter and the Half-Blood Prince   767\n",
      "1176  0.510601  Harry Potter and the Philosopher's Stone   671\n",
      "2109  0.495684       Harry Potter and the Goblet of Fire   674\n",
      "682   0.493769                     House of Frankenstein  3103\n",
      "\n",
      "Books\n",
      "           SIM                            Name       Id\n",
      "3868  0.214663                     Show Me How  3475581\n",
      "4444  0.209302             Last Days of Summer  1190928\n",
      "62    0.209051               Playing for Pizza  1205297\n",
      "3853  0.208208  The Entertainer and the Dybbuk  1800763\n",
      "3620  0.203969                    The Consumer   676920\n",
      "\n",
      "Movies\n",
      "           SIM        original_title     id\n",
      "3114  0.339249                   Sur  46770\n",
      "165   0.259075         It's My Party  33245\n",
      "5319  0.250307               One Way   7298\n",
      "2513  0.227221  Great World of Sound  25919\n",
      "3389  0.223718         The Hucksters  88812\n"
     ]
    }
   ],
   "execution_count": 5
  },
  {
   "metadata": {},
   "cell_type": "markdown",
   "source": "Using averaged embeddings of liked books and movies, find similar books and movies",
   "id": "ae950db1385fac37"
  },
  {
   "metadata": {
    "ExecuteTime": {
     "end_time": "2025-02-11T21:22:17.240560Z",
     "start_time": "2025-02-11T21:22:17.195114Z"
    }
   },
   "cell_type": "code",
   "source": [
    "liked_books = book_embeddings.iloc[[458, 1131]]\n",
    "liked_movies = movie_embeddings.iloc[[1176, 2109, 2678, 1323, 543, 1192, 1567]]\n",
    "\n",
    "mean = pd.concat([liked_books, liked_movies]).mean(axis=0)\n",
    "mean /= np.linalg.norm(mean)\n",
    "\n",
    "book_df[\"SIM\"] = cosine_similarity(np.array([mean]), book_embeddings)[0]\n",
    "movie_df[\"SIM\"] = cosine_similarity(np.array([mean]), movie_embeddings)[0]\n",
    "\n",
    "print(\"\\nBooks\")\n",
    "print(book_df.sort_values(by=\"SIM\", ascending=False).head(10)[[\"SIM\", \"Name\", \"Id\"]])\n",
    "\n",
    "print(\"\\nMovies\")\n",
    "print(movie_df.sort_values(by=\"SIM\", ascending=False).head(10)[[\"SIM\", \"original_title\", \"id\"]])\n"
   ],
   "id": "89c8c363bed165c3",
   "outputs": [
    {
     "name": "stdout",
     "output_type": "stream",
     "text": [
      "\n",
      "Books\n",
      "           SIM                                               Name       Id\n",
      "1131  0.680084  Harry Potter and the Sorcerer's Stone (Harry P...   862267\n",
      "458   0.631172                          The Hobbit: Graphic Novel   659469\n",
      "2561  0.556936                                       Travel Light   827276\n",
      "532   0.491451  Harry, a History: The True Story of a Boy Wiza...  3130430\n",
      "4537  0.490123   The History of the Hobbit, Part One: Mr. Baggins  1081560\n",
      "558   0.489926  The Castle in the Attic (The Castle in the Att...   816752\n",
      "2805  0.489656           Wizard's First Rule (Sword of Truth, #1)   914886\n",
      "128   0.475612                       The Tales of Beedle the Bard  4020390\n",
      "827   0.474852                  Backup (The Dresden Files, #10.4)  2575572\n",
      "843   0.469630                Stoneheart (Stoneheart Trilogy, #1)   792775\n",
      "\n",
      "Movies\n",
      "           SIM                                     original_title    id\n",
      "1176  0.693123           Harry Potter and the Philosopher's Stone   671\n",
      "2109  0.664314                Harry Potter and the Goblet of Fire   674\n",
      "2678  0.656677             Harry Potter and the Half-Blood Prince   767\n",
      "1323  0.648622            Harry Potter and the Chamber of Secrets   672\n",
      "1192  0.643594  The Lord of the Rings: The Fellowship of the Ring   120\n",
      "1567  0.634368      The Lord of the Rings: The Return of the King   122\n",
      "543   0.606574                              The Lord of the Rings   123\n",
      "1695  0.599739           Harry Potter and the Prisoner of Azkaban   673\n",
      "2927  0.591598                             The Return of the King  1361\n",
      "1348  0.568332              The Lord of the Rings: The Two Towers   121\n"
     ]
    }
   ],
   "execution_count": 8
  }
 ],
 "metadata": {
  "kernelspec": {
   "display_name": "Python 3",
   "language": "python",
   "name": "python3"
  },
  "language_info": {
   "codemirror_mode": {
    "name": "ipython",
    "version": 2
   },
   "file_extension": ".py",
   "mimetype": "text/x-python",
   "name": "python",
   "nbconvert_exporter": "python",
   "pygments_lexer": "ipython2",
   "version": "2.7.6"
  }
 },
 "nbformat": 4,
 "nbformat_minor": 5
}
